{
 "cells": [
  {
   "cell_type": "code",
   "execution_count": 568,
   "metadata": {},
   "outputs": [],
   "source": [
    "from sklearn.linear_model import LinearRegression\n",
    "from sklearn.metrics import mutual_info_score\n",
    "import scipy.stats as stats\n",
    "import pandas as pd\n",
    "import numpy as np\n",
    "import networkx as nx\n",
    "from itertools import combinations\n",
    "import matplotlib.pyplot as plt\n",
    "import bisect"
   ]
  },
  {
   "cell_type": "code",
   "execution_count": 3,
   "metadata": {},
   "outputs": [],
   "source": [
    "data = pd.read_csv(\"../d.csv\").iloc[:,2:]"
   ]
  },
  {
   "cell_type": "code",
   "execution_count": 308,
   "metadata": {},
   "outputs": [],
   "source": [
    "def BIC(X, y, penalty=1.0):\n",
    "    \"\"\" X is the set of variables in the model that might be parents of y, y is the variable\n",
    "    we are checking against\"\"\"\n",
    "    \n",
    "    if len(X.shape) < 2:\n",
    "        X = X.reshape(-1, 1)\n",
    "\n",
    "    if X.shape[1] == 0:\n",
    "        return 0\n",
    "    regression = LinearRegression().fit(X, y)\n",
    "    y_predicted = regression.predict(X)\n",
    "    residuals = y - y_predicted\n",
    "    n, k = X.shape\n",
    "    mean_sq_error = np.sum(np.square(residuals))/n\n",
    "    BIC_score = -n*np.log(mean_sq_error) - penalty*k*np.log(n)\n",
    "\n",
    "    return BIC_score"
   ]
  },
  {
   "cell_type": "markdown",
   "metadata": {},
   "source": [
    "The penalty parameter only offers a meaningful reduction in the search of\n",
    "Markov Blankets if it makes the penalty be in the same order of magnitude\n",
    "as the log likelihood term. If it's too small, all variables are important\n",
    "If it's too big, all variables can be neglected. \n",
    "This says something about the structure of the net (small contributions from various components)\n",
    "\n",
    "It should be chosen so that k*log(n)*penalty ~ n"
   ]
  },
  {
   "cell_type": "code",
   "execution_count": 594,
   "metadata": {},
   "outputs": [],
   "source": [
    "class FGES:\n",
    "    def __init__(self, data, penalty=1.0):\n",
    "        self.data = data.values\n",
    "        n = len(data.columns)\n",
    "        self.nodes = list(range(n))\n",
    "        \n",
    "        # Keep dictionaries with all children, parents and undirected edges for each node\n",
    "        self.children = {node: set() for node in self.nodes}\n",
    "        self.undirected = {node: set() for node in self.nodes}\n",
    "        self.parents = {node: set() for node in self.nodes}\n",
    "        self.adjacencies = {node: set() for node in self.nodes}\n",
    "        \n",
    "        # Each column is, given the parents of this node, add the node in the row.\n",
    "        self.BICS = np.zeros((n, n))\n",
    "        self.penalty = penalty\n",
    "        self.init_BICS()\n",
    "        \n",
    "        # Add set of arrows\n",
    "        self.arrows = [((i,j), set(), set(), self.BICS[i, j]) for i in range(n) for j in range(n) if self.BICS[i, j] > 0]\n",
    "        self.arrows.sort(key=lambda x: x[3], reverse=True)\n",
    "        self.arrow_keys = [arrow[3] for arrow in self.arrows]\n",
    "\n",
    "\n",
    "    def draw_net(self):\n",
    "        # Draw to check\n",
    "        labels={}\n",
    "        for node in self.nodes:\n",
    "            labels[node] = r'$'+str(node)+'$'\n",
    "        BN = nx.DiGraph()\n",
    "        edges = [(key, value) for key, values in list(self.children.items())+list(self.undirected.items()) for value in values]\n",
    "        BN.add_edges_from(edges)\n",
    "        BN.add_nodes_from(list(self.nodes))\n",
    "        pos=nx.spring_layout(BN)\n",
    "        nx.draw(BN, pos)\n",
    "        nx.draw_networkx_labels(BN,pos,labels,font_size=16)\n",
    "        plt.show()\n",
    "\n",
    "\n",
    "    def BIC(self, X, y):\n",
    "        return BIC(X, y, self.penalty)\n",
    "    \n",
    "    def apply_meek_rules(self, node_set=None):\n",
    "        # Apply Meek's rules to the graph to direct some of the edges.\n",
    "        # Check if any changes happen\n",
    "        changes = set()\n",
    "        \n",
    "        if not(node_set):\n",
    "            node_set = self.nodes\n",
    "        for node in node_set:\n",
    "            prev_children = self.children[node].copy()\n",
    "            for adj in prev_children:\n",
    "                # Rule 1: Away from collider\n",
    "                prev_undirected = self.undirected[adj].copy()\n",
    "                for double_adj in prev_undirected:\n",
    "                    if not(double_adj in self.adjacencies[node]):\n",
    "                        self.undirected[double_adj].remove(adj)\n",
    "                        self.undirected[adj].remove(double_adj)\n",
    "                        self.children[adj].add(double_adj)\n",
    "                        self.parents[double_adj].add(adj)\n",
    "                    changes.add(double_adj)\n",
    "                    changes.add(adj)\n",
    "\n",
    "                # Rule 2: Away from cycle\n",
    "                prev_adj_children = self.children[adj].copy()\n",
    "                for double_adj in prev_adj_children:\n",
    "                    if double_adj in self.undirected[node]:\n",
    "                        self.undirected[double_adj].remove(node)\n",
    "                        self.undirected[node].remove(double_adj)\n",
    "                        self.children[node].add(double_adj)\n",
    "                        self.parents[double_adj].add(node)\n",
    "                        changes.add(double_adj)\n",
    "                        changes.add(adj)\n",
    "\n",
    "            # Rule 3: Double triangle\n",
    "            prev_undirected = self.undirected[node].copy()\n",
    "            for adj in prev_undirected:\n",
    "                prev_adj_undirected = self.undirected[adj].copy()\n",
    "                for double_adj in prev_adj_undirected:\n",
    "                    mutuals = self.children[node] & self.undirected[adj] & self.children[double_adj]\n",
    "                    for target in mutuals:   \n",
    "                        self.undirected[target].remove(adj)\n",
    "                        self.undirected[adj].remove(target)\n",
    "                        self.parents[target].add(adj)\n",
    "                        self.children[adj].add(target)\n",
    "                        changes.add(target)\n",
    "                        changes.add(adj)\n",
    "        return changes\n",
    "\n",
    "\n",
    "    def CPDAG(self, node_set=None):\n",
    "        # Eliminate all directions from edges except on v-structures.\n",
    "        # Keep track of changes\n",
    "        changes = set()\n",
    "        \n",
    "        if not(node_set):\n",
    "            node_set = self.nodes\n",
    "\n",
    "        for node in node_set:\n",
    "            prev_children = self.children[node].copy()\n",
    "            for adj in prev_children:\n",
    "                v_struct = False\n",
    "                prev_parents = self.parents[adj] - {node}\n",
    "                for double_adj in prev_parents:\n",
    "                    if not(double_adj in self.adjacencies[node]):\n",
    "                        v_struct = True\n",
    "                        break\n",
    "                    else:\n",
    "                        continue\n",
    "                if not v_struct:\n",
    "                    self.undirected[adj].add(node)\n",
    "                    self.undirected[node].add(adj)\n",
    "                    self.parents[adj].remove(node)\n",
    "                    self.children[node].remove(adj)\n",
    "                    changes.add(adj)\n",
    "                    changes.add(node)\n",
    "        return changes\n",
    "    \n",
    "    def local_meek(self, node_set):\n",
    "\n",
    "        changes = self.CPDAG(node_set)\n",
    "        node_set = node_set.union(changes)\n",
    "        changes = self.apply_meek_rules(node_set)\n",
    "        changes_past = set()\n",
    "        while (changes != set()):\n",
    "            changes = self.CPDAG(changes).union(self.apply_meek_rules(changes))\n",
    "            node_set = node_set.union(changes)\n",
    "            changes_past = changes.copy()\n",
    "            \n",
    "        return node_set\n",
    "\n",
    "\n",
    "    def init_BICS(self):\n",
    "        n = len(self.nodes)\n",
    "        for i in range(n):\n",
    "            y = self.data[:, i]\n",
    "            for j in range(i+1, n):\n",
    "                X = self.data[:, j]\n",
    "                self.BICS[i, j] = self.BIC(X, y)\n",
    "                self.BICS[j, i] = self.BICS[i, j]\n",
    "\n",
    "\n",
    "    def check_clique(self, node_set):\n",
    "        # Check if a subgraph is fully connected.\n",
    "        for node in node_set:\n",
    "            if self.adjacencies[node] < node_set:\n",
    "                return False\n",
    "        return True\n",
    "\n",
    "\n",
    "    def parts_of(self, node_set):\n",
    "        # Return an iterator over all the subsets of a given set.\n",
    "        for size in range(len(node_set)+1):\n",
    "            yield from combinations(node_set, size)\n",
    "\n",
    "            \n",
    "    def calculate_arrows_forward(self, x, y):\n",
    "        # This checks all possible edge additions to y from x depending on the adjacent nodes.\n",
    "        # Then adds them to the list of arrows if they are valid and with positive score.\n",
    "        # Not sure why we do it this way\n",
    "\n",
    "        T = self.adjacencies[y] - self.adjacencies[x]\n",
    "        NaYX = self.adjacencies[y] & self.undirected[x]\n",
    "        for subset in self.parts_of(T):\n",
    "            S = NaYX.union(set(subset))\n",
    "            if self.check_clique(S):\n",
    "                S = S.union(self.parents[y])\n",
    "                data_y = self.data[:, y].reshape(self.data.shape[0], -1)\n",
    "                X_0 = self.data[:, list(S)].reshape(self.data.shape[0], -1)\n",
    "                X = self.data[:, list(S)+[x]].reshape(self.data.shape[0], -1)\n",
    "                b = self.BIC(X, data_y) - self.BIC(X_0, data_y)\n",
    "                if b > 0:\n",
    "                    index = bisect.bisect_left(self.arrow_keys, b)\n",
    "                    self.arrow_keys.insert(index, b)\n",
    "                    self.arrows.insert(index, ((x, y), NaYX, T, b))\n",
    "\n",
    "\n",
    "    def reevaluate_forward(self, node_set):\n",
    "        # Recalculate all possible edge additions towards every node in the node set.\n",
    "        for node in node_set:\n",
    "            for other in (j for j in range(len(self.nodes)) if self.BICS[j, node] > 0):\n",
    "                \n",
    "                arrows_indexes = set([i for i, arrow in enumerate(self.arrows) if arrow[0] != (other, node)])\n",
    "                self.arrows = [arrow for i, arrow in enumerate(self.arrows) if i in arrows_indexes]\n",
    "                self.arrow_keys = [key for i, key in enumerate(self.arrow_keys) if i in arrows_indexes]\n",
    "                self.calculate_arrows_forward(other, node)\n",
    "\n",
    "\n",
    "    def check_arrow(self, arrow):\n",
    "        x, y = arrow[0]\n",
    "        NaYX, T = arrow[1:3]\n",
    "        if not(y in self.adjacencies[x]):\n",
    "            if NaYX == (self.adjacencies[y] & self.undirected[x]):\n",
    "                if T <= (self.undirected[y] - self.adjacencies[x]):\n",
    "                    return True\n",
    "        return False\n",
    "            \n",
    "\n",
    "    def forward_equivalence_search(self):\n",
    "        while self.arrows != []:\n",
    "            \n",
    "            best_edge = self.arrows.pop(0)\n",
    "            self.arrow_keys.pop(0)\n",
    "            x, y = best_edge[0]\n",
    "            NaYX, T = best_edge[1:3]\n",
    "            if self.check_arrow(best_edge) and self.check_clique(NaYX.union(T)):\n",
    "                # Add edge\n",
    "                self.parents[y].add(x)\n",
    "                self.children[x].add(y)\n",
    "                self.adjacencies[x].add(y)\n",
    "                self.adjacencies[y].add(x)\n",
    "                # Orient every node on T into y\n",
    "                for node in T:\n",
    "                    self.parents[y].add(node)\n",
    "                    self.children[node].add(y)\n",
    "                    self.undirected[node].remove(y)\n",
    "                    self.undirected[y].remove(node)\n",
    "                \n",
    "                # Undirect all nodes except unshielded colliders\n",
    "                node_set = self.local_meek({x, y})\n",
    "                self.reevaluate_forward(node_set)\n",
    "                              \n",
    "                              \n",
    "                              \n",
    "    def init_BICS_deletion(self):\n",
    "        n = len(self.nodes)\n",
    "        self.BICS = np.zeros((n, n))\n",
    "        for node in self.nodes:\n",
    "            Adj = list(self.edges[node])\n",
    "            if not Adj:\n",
    "                continue\n",
    "                \n",
    "            y = self.data[:, node]\n",
    "            data_n = self.data[:, Adj]\n",
    "            start_BIC = self.BIC(data_n, y)\n",
    "            if len(Adj) <= 1:\n",
    "                continue\n",
    "            for edge in Adj:\n",
    "                data_n = self.data[:, tuple(set(Adj)-{edge})]\n",
    "                self.BICS[edge, node] = self.BIC(data_n, y) - start_BIC\n",
    "            \n",
    "    def backward_equivalence_search(self):\n",
    "        # Initialize BIC matrix for deletion.\n",
    "        \n",
    "        \n",
    "        j, i = np.unravel_index(np.argmax(self.BICS), self.BICS.shape)\n",
    "        self.edges[i].remove(j)\n",
    "        self.parents[i].remove(i)\n",
    "\n",
    "        \n",
    "        Adj = list(self.edges[i])\n",
    "        y = self.data[:, i]\n",
    "        data_n = self.data[:, Adj]\n",
    "        start_BIC = self.BIC(data_n, y)\n",
    "        \n",
    "        for edge in Adj:\n",
    "            X = self.data[:, tuple(set(Adj)-{edge})]\n",
    "            self.BICS[edge, i] = self.BIC(data_n, y) - start_BIC\n",
    "            self.BICS[i, edge] = self.BICS[edge, i]\n",
    "        \n",
    "        self.BICS[j, i], self.BICS[i, j] = 0, 0\n",
    "        self.CPDAG()\n",
    "        self.apply_meek_rules()\n",
    "        return True\n",
    "        \n",
    "        "
   ]
  },
  {
   "cell_type": "code",
   "execution_count": 602,
   "metadata": {},
   "outputs": [
    {
     "name": "stdout",
     "output_type": "stream",
     "text": [
      "CPU times: user 442 ms, sys: 11.7 ms, total: 454 ms\n",
      "Wall time: 76.7 ms\n"
     ]
    }
   ],
   "source": [
    "%%time\n",
    "test = FGES(data.iloc[:, 2:20], penalty=60.0)"
   ]
  },
  {
   "cell_type": "code",
   "execution_count": 603,
   "metadata": {},
   "outputs": [
    {
     "name": "stdout",
     "output_type": "stream",
     "text": [
      "CPU times: user 1min 12s, sys: 3.86 s, total: 1min 16s\n",
      "Wall time: 12.7 s\n"
     ]
    }
   ],
   "source": [
    "%%time\n",
    "test.forward_equivalence_search()"
   ]
  },
  {
   "cell_type": "code",
   "execution_count": 604,
   "metadata": {},
   "outputs": [
    {
     "data": {
      "text/plain": [
       "array([[   0.        ,  135.82973529,  145.57266246,  138.44325404,\n",
       "         135.12523981,  140.88506978,  141.01861745,  136.93435786,\n",
       "         134.95439775,  136.42858728,  134.8818668 ,  135.48492787,\n",
       "         137.5402729 ,  140.95965965,  136.72102861,  136.0072155 ,\n",
       "         139.34994903,  135.08645824],\n",
       "       [ 135.82973529,    0.        ,  290.84513987,  297.24142806,\n",
       "         313.1273722 ,  290.47594024,  305.74260454,  305.89164653,\n",
       "         289.99596119,  292.71961287,  317.30083674,  290.37248877,\n",
       "         320.53586869,  290.68296494,  310.78760745,  302.68388292,\n",
       "         297.01899134,  304.53040721],\n",
       "       [ 145.57266246,  290.84513987,    0.        ,  -73.32610482,\n",
       "         -70.08140203,  -72.27632511,  -57.15792538,  -70.1082666 ,\n",
       "         -68.66723511,  -29.35113361,  -77.63740384,  -72.94626636,\n",
       "         -70.37702484,  -71.42427319,  -54.28511025,  -77.63254035,\n",
       "         -75.42680399,  -67.81612198],\n",
       "       [ 138.44325404,  297.24142806,  -73.32610482,    0.        ,\n",
       "         475.82638676,  480.44658295,  468.83853731,  447.82142618,\n",
       "         435.74270626,  450.75062081,  464.34707255,  446.32991362,\n",
       "         489.91708827,  434.40807742,  447.25975855,  437.37994811,\n",
       "         439.5266593 ,  435.47822682],\n",
       "       [ 135.12523981,  313.1273722 ,  -70.08140203,  475.82638676,\n",
       "           0.        ,  232.7664955 , 1033.00669245,  256.21430229,\n",
       "         229.16606493,  527.93911792,  951.22524887,  282.05540805,\n",
       "        1084.7171346 ,  232.87337116,  335.63583289,  249.09087825,\n",
       "         229.49789656,  234.05871706],\n",
       "       [ 140.88506978,  290.47594024,  -72.27632511,  480.44658295,\n",
       "         232.7664955 ,    0.        ,  323.60199205,  339.49678256,\n",
       "         331.17912891,  317.21946817,  315.64211111,  369.69390207,\n",
       "         334.61689975,  346.0904279 ,  328.89981776,  354.89151612,\n",
       "         319.53104929,  333.04210291],\n",
       "       [ 141.01861745,  305.74260454,  -57.15792538,  468.83853731,\n",
       "        1033.00669245,  323.60199205,    0.        ,  476.09177771,\n",
       "         444.70035166,  665.63379193,  848.09280779,  495.84475138,\n",
       "        1080.26029338,  446.87555263,  523.14151931,  452.81639113,\n",
       "         451.82163853,  436.18478397],\n",
       "       [ 136.93435786,  305.89164653,  -70.1082666 ,  447.82142618,\n",
       "         256.21430229,  339.49678256,  476.09177771,    0.        ,\n",
       "         994.81073602, 1040.08311474, 1049.87754844, 1027.85839053,\n",
       "        1084.30867934, 1022.55493219,  990.93436669, 1004.93294243,\n",
       "        1192.95954221, 1003.85306433],\n",
       "       [ 134.95439775,  289.99596119,  -68.66723511,  435.74270626,\n",
       "         229.16606493,  331.17912891,  444.70035166,  994.81073602,\n",
       "           0.        ,  406.43835766,  409.59473228,  427.05681811,\n",
       "         408.58716755,  416.68129232,  489.75703547,  412.73407241,\n",
       "         410.23868177,  465.23966364],\n",
       "       [ 136.42858728,  292.71961287,  -29.35113361,  450.75062081,\n",
       "         527.93911792,  317.21946817,  665.63379193, 1040.08311474,\n",
       "         406.43835766,    0.        ,  -72.40130936, -193.17704466,\n",
       "         -82.15296153, -264.5506729 ,  -63.51172882, -263.4536982 ,\n",
       "        -243.14536266, -261.79186298],\n",
       "       [ 134.8818668 ,  317.30083674,  -77.63740384,  464.34707255,\n",
       "         951.22524887,  315.64211111,  848.09280779, 1049.87754844,\n",
       "         409.59473228,  -72.40130936,    0.        ,  881.14986888,\n",
       "        1462.46536801,  879.03390289,  956.88500469,  906.20377839,\n",
       "         884.25489948,  891.53028273],\n",
       "       [ 135.48492787,  290.37248877,  -72.94626636,  446.32991362,\n",
       "         282.05540805,  369.69390207,  495.84475138, 1027.85839053,\n",
       "         427.05681811, -193.17704466,  881.14986888,    0.        ,\n",
       "        1010.71067106,  982.85546592,  986.74691003,  995.78404296,\n",
       "        1013.14659615,  991.24968174],\n",
       "       [ 137.5402729 ,  320.53586869,  -70.37702484,  489.91708827,\n",
       "        1084.7171346 ,  334.61689975, 1080.26029338, 1084.30867934,\n",
       "         408.58716755,  -82.15296153, 1462.46536801, 1010.71067106,\n",
       "           0.        ,  494.86934169,  589.299389  ,  490.99011264,\n",
       "         501.97938695,  493.4504709 ],\n",
       "       [ 140.95965965,  290.68296494,  -71.42427319,  434.40807742,\n",
       "         232.87337116,  346.0904279 ,  446.87555263, 1022.55493219,\n",
       "         416.68129232, -264.5506729 ,  879.03390289,  982.85546592,\n",
       "         494.86934169,    0.        ,   62.85579375,   62.96090229,\n",
       "          75.2604265 ,   67.37094767],\n",
       "       [ 136.72102861,  310.78760745,  -54.28511025,  447.25975855,\n",
       "         335.63583289,  328.89981776,  523.14151931,  990.93436669,\n",
       "         489.75703547,  -63.51172882,  956.88500469,  986.74691003,\n",
       "         589.299389  ,   62.85579375,    0.        ,  505.67557589,\n",
       "         497.94105473,  596.31985268],\n",
       "       [ 136.0072155 ,  302.68388292,  -77.63254035,  437.37994811,\n",
       "         249.09087825,  354.89151612,  452.81639113, 1004.93294243,\n",
       "         412.73407241, -263.4536982 ,  906.20377839,  995.78404296,\n",
       "         490.99011264,   62.96090229,  505.67557589,    0.        ,\n",
       "          74.0186151 ,   99.98142469],\n",
       "       [ 139.34994903,  297.01899134,  -75.42680399,  439.5266593 ,\n",
       "         229.49789656,  319.53104929,  451.82163853, 1192.95954221,\n",
       "         410.23868177, -243.14536266,  884.25489948, 1013.14659615,\n",
       "         501.97938695,   75.2604265 ,  497.94105473,   74.0186151 ,\n",
       "           0.        , 1182.33160746],\n",
       "       [ 135.08645824,  304.53040721,  -67.81612198,  435.47822682,\n",
       "         234.05871706,  333.04210291,  436.18478397, 1003.85306433,\n",
       "         465.23966364, -261.79186298,  891.53028273,  991.24968174,\n",
       "         493.4504709 ,   67.37094767,  596.31985268,   99.98142469,\n",
       "        1182.33160746,    0.        ]])"
      ]
     },
     "execution_count": 604,
     "metadata": {},
     "output_type": "execute_result"
    }
   ],
   "source": [
    "test.BICS"
   ]
  },
  {
   "cell_type": "code",
   "execution_count": 605,
   "metadata": {},
   "outputs": [
    {
     "name": "stdout",
     "output_type": "stream",
     "text": [
      "0 :  set()\n",
      "1 :  set()\n",
      "2 :  set()\n",
      "3 :  set()\n",
      "4 :  set()\n",
      "5 :  set()\n",
      "6 :  set()\n",
      "7 :  set()\n",
      "8 :  set()\n",
      "9 :  set()\n",
      "10 :  set()\n",
      "11 :  set()\n",
      "12 :  set()\n",
      "13 :  set()\n",
      "14 :  set()\n",
      "15 :  set()\n",
      "16 :  set()\n",
      "17 :  set()\n"
     ]
    }
   ],
   "source": [
    "for n in test.nodes:\n",
    "    print(n, \": \", test.parents[n] & test.children[n])"
   ]
  },
  {
   "cell_type": "code",
   "execution_count": 606,
   "metadata": {},
   "outputs": [
    {
     "data": {
      "text/plain": [
       "{0: {4, 8},\n",
       " 1: {2, 3, 5, 8, 12},\n",
       " 2: set(),\n",
       " 3: set(),\n",
       " 4: set(),\n",
       " 5: {3, 8},\n",
       " 6: {7, 9, 12},\n",
       " 7: set(),\n",
       " 8: set(),\n",
       " 9: set(),\n",
       " 10: {5, 12},\n",
       " 11: {1, 7},\n",
       " 12: set(),\n",
       " 13: {3, 7},\n",
       " 14: {0, 7, 13},\n",
       " 15: {0, 7, 13},\n",
       " 16: {4, 7, 17},\n",
       " 17: set()}"
      ]
     },
     "execution_count": 606,
     "metadata": {},
     "output_type": "execute_result"
    }
   ],
   "source": [
    "test.parents"
   ]
  },
  {
   "cell_type": "code",
   "execution_count": 607,
   "metadata": {},
   "outputs": [],
   "source": [
    "BN = nx.DiGraph()\n",
    "edges = [(key, value) for key, values in list(test.children.items()) for value in values]\n",
    "BN.add_edges_from(edges)"
   ]
  },
  {
   "cell_type": "code",
   "execution_count": 608,
   "metadata": {},
   "outputs": [
    {
     "data": {
      "image/png": "[encoded data removed]",
      "text/plain": [
       "<Figure size 432x288 with 1 Axes>"
      ]
     },
     "metadata": {},
     "output_type": "display_data"
    }
   ],
   "source": [
    "import matplotlib.pyplot as plt\n",
    "nx.draw(BN)\n",
    "plt.show()"
   ]
  },
  {
   "cell_type": "code",
   "execution_count": 609,
   "metadata": {},
   "outputs": [
    {
     "ename": "NetworkXNoCycle",
     "evalue": "No cycle found.",
     "output_type": "error",
     "traceback": [
      "\u001b[0;31m---------------------------------------------------------------------------\u001b[0m",
      "\u001b[0;31mNetworkXNoCycle\u001b[0m                           Traceback (most recent call last)",
      "\u001b[0;32m<ipython-input-609-c305fdda9dfc>\u001b[0m in \u001b[0;36m<module>\u001b[0;34m()\u001b[0m\n\u001b[0;32m----> 1\u001b[0;31m \u001b[0mnx\u001b[0m\u001b[0;34m.\u001b[0m\u001b[0mfind_cycle\u001b[0m\u001b[0;34m(\u001b[0m\u001b[0mBN\u001b[0m\u001b[0;34m)\u001b[0m\u001b[0;34m\u001b[0m\u001b[0m\n\u001b[0m",
      "\u001b[0;32m~/anaconda3/lib/python3.6/site-packages/networkx/algorithms/cycles.py\u001b[0m in \u001b[0;36mfind_cycle\u001b[0;34m(G, source, orientation)\u001b[0m\n\u001b[1;32m    459\u001b[0m     \u001b[0;32melse\u001b[0m\u001b[0;34m:\u001b[0m\u001b[0;34m\u001b[0m\u001b[0m\n\u001b[1;32m    460\u001b[0m         \u001b[0;32massert\u001b[0m\u001b[0;34m(\u001b[0m\u001b[0mlen\u001b[0m\u001b[0;34m(\u001b[0m\u001b[0mcycle\u001b[0m\u001b[0;34m)\u001b[0m \u001b[0;34m==\u001b[0m \u001b[0;36m0\u001b[0m\u001b[0;34m)\u001b[0m\u001b[0;34m\u001b[0m\u001b[0m\n\u001b[0;32m--> 461\u001b[0;31m         \u001b[0;32mraise\u001b[0m \u001b[0mnx\u001b[0m\u001b[0;34m.\u001b[0m\u001b[0mexception\u001b[0m\u001b[0;34m.\u001b[0m\u001b[0mNetworkXNoCycle\u001b[0m\u001b[0;34m(\u001b[0m\u001b[0;34m'No cycle found.'\u001b[0m\u001b[0;34m)\u001b[0m\u001b[0;34m\u001b[0m\u001b[0m\n\u001b[0m\u001b[1;32m    462\u001b[0m \u001b[0;34m\u001b[0m\u001b[0m\n\u001b[1;32m    463\u001b[0m     \u001b[0;31m# We now have a list of edges which ends on a cycle.\u001b[0m\u001b[0;34m\u001b[0m\u001b[0;34m\u001b[0m\u001b[0m\n",
      "\u001b[0;31mNetworkXNoCycle\u001b[0m: No cycle found."
     ]
    }
   ],
   "source": []
  },
  {
   "cell_type": "code",
   "execution_count": 210,
   "metadata": {},
   "outputs": [
    {
     "name": "stdout",
     "output_type": "stream",
     "text": [
      "starter:  0\n",
      "v on:  1\n",
      "Start looking\n",
      "{0}\n",
      "Second parent:  0\n",
      "True\n",
      "v on:  2\n",
      "Start looking\n",
      "{0}\n",
      "Second parent:  0\n",
      "True\n",
      "v on:  4\n",
      "Start looking\n",
      "{0, 2, 3}\n",
      "Second parent:  0\n",
      "True\n",
      "Second parent:  2\n",
      "True\n",
      "Second parent:  3\n",
      "False\n",
      "v struct\n",
      "starter:  1\n",
      "v on:  0\n",
      "v on:  3\n",
      "Start looking\n",
      "{1}\n",
      "Second parent:  1\n",
      "True\n",
      "starter:  2\n",
      "v on:  0\n",
      "v on:  4\n",
      "Start looking\n",
      "{0, 2, 3}\n",
      "Second parent:  0\n",
      "True\n",
      "Second parent:  2\n",
      "True\n",
      "Second parent:  3\n",
      "False\n",
      "v struct\n",
      "starter:  3\n",
      "v on:  1\n",
      "v on:  4\n",
      "Start looking\n",
      "{0, 2, 3}\n",
      "Second parent:  0\n",
      "False\n",
      "v struct\n",
      "starter:  4\n"
     ]
    }
   ],
   "source": [
    "test.CPDAG()"
   ]
  },
  {
   "cell_type": "code",
   "execution_count": 212,
   "metadata": {},
   "outputs": [
    {
     "data": {
      "text/plain": [
       "{0: {1, 2, 4}, 1: {0, 3}, 2: {0, 4}, 3: {1, 4}, 4: set()}"
      ]
     },
     "execution_count": 212,
     "metadata": {},
     "output_type": "execute_result"
    }
   ],
   "source": [
    "test.apply_meek_rules()\n",
    "test.edges"
   ]
  },
  {
   "cell_type": "code",
   "execution_count": 90,
   "metadata": {},
   "outputs": [
    {
     "name": "stdout",
     "output_type": "stream",
     "text": [
      "CPU times: user 4.29 ms, sys: 256 µs, total: 4.55 ms\n",
      "Wall time: 1.46 ms\n"
     ]
    },
    {
     "name": "stderr",
     "output_type": "stream",
     "text": [
      "/home/cig/anaconda3/lib/python3.6/site-packages/ipykernel_launcher.py:1: FutureWarning: `rcond` parameter will change to the default of machine precision times ``max(M, N)`` where M and N are the input matrix dimensions.\n",
      "To use the future default and silence this warning we advise to pass `rcond=None`, to keep using the old, explicitly pass `rcond=-1`.\n",
      "  \"\"\"Entry point for launching an IPython kernel.\n"
     ]
    }
   ],
   "source": [
    "%%time\n",
    "residuals = np.linalg.lstsq(np.c_[X, np.ones_like(X)], y)[1]\n",
    "\n"
   ]
  },
  {
   "cell_type": "code",
   "execution_count": 92,
   "metadata": {},
   "outputs": [
    {
     "name": "stdout",
     "output_type": "stream",
     "text": [
      "CPU times: user 4.43 ms, sys: 25 µs, total: 4.45 ms\n",
      "Wall time: 1.67 ms\n"
     ]
    }
   ],
   "source": [
    "%%time\n",
    "regression = LinearRegression().fit(X, y)\n",
    "y_predicted = regression.predict(X)\n",
    "residuals = y - y_predicted\n",
    "n, k = X.shape\n",
    "mean_sq_error = np.sum(np.square(residuals))/n\n",
    "BIC_score = -n*np.log(mean_sq_error) - 60*k*np.log(n)"
   ]
  },
  {
   "cell_type": "code",
   "execution_count": 84,
   "metadata": {},
   "outputs": [
    {
     "name": "stdout",
     "output_type": "stream",
     "text": [
      "(2, 537, 10)\n"
     ]
    },
    {
     "ename": "LinAlgError",
     "evalue": "Incompatible dimensions",
     "output_type": "error",
     "traceback": [
      "\u001b[0;31m---------------------------------------------------------------------------\u001b[0m",
      "\u001b[0;31mLinAlgError\u001b[0m                               Traceback (most recent call last)",
      "\u001b[0;32m<ipython-input-84-248f0fffe49a>\u001b[0m in \u001b[0;36m<module>\u001b[0;34m()\u001b[0m\n\u001b[0;32m----> 1\u001b[0;31m \u001b[0mnp\u001b[0m\u001b[0;34m.\u001b[0m\u001b[0mvectorize\u001b[0m\u001b[0;34m(\u001b[0m\u001b[0;34m(\u001b[0m\u001b[0;32mlambda\u001b[0m \u001b[0mx\u001b[0m\u001b[0;34m:\u001b[0m \u001b[0;34m(\u001b[0m\u001b[0mprint\u001b[0m\u001b[0;34m(\u001b[0m\u001b[0mx\u001b[0m\u001b[0;34m.\u001b[0m\u001b[0mshape\u001b[0m\u001b[0;34m)\u001b[0m\u001b[0;34m,\u001b[0m \u001b[0mnp\u001b[0m\u001b[0;34m.\u001b[0m\u001b[0mlinalg\u001b[0m\u001b[0;34m.\u001b[0m\u001b[0mlstsq\u001b[0m\u001b[0;34m(\u001b[0m\u001b[0mx\u001b[0m\u001b[0;34m.\u001b[0m\u001b[0mreshape\u001b[0m\u001b[0;34m(\u001b[0m\u001b[0;34m-\u001b[0m\u001b[0;36m1\u001b[0m\u001b[0;34m,\u001b[0m \u001b[0;36m1\u001b[0m\u001b[0;34m)\u001b[0m\u001b[0;34m,\u001b[0m \u001b[0my\u001b[0m\u001b[0;34m)\u001b[0m\u001b[0;34m)\u001b[0m\u001b[0;34m)\u001b[0m\u001b[0;34m,\u001b[0m \u001b[0msignature\u001b[0m\u001b[0;34m=\u001b[0m\u001b[0;34m'(a,b,c)->(c)'\u001b[0m\u001b[0;34m)\u001b[0m\u001b[0;34m(\u001b[0m\u001b[0ma\u001b[0m\u001b[0;34m)\u001b[0m\u001b[0;34m\u001b[0m\u001b[0m\n\u001b[0m",
      "\u001b[0;32m~/anaconda3/lib/python3.6/site-packages/numpy/lib/function_base.py\u001b[0m in \u001b[0;36m__call__\u001b[0;34m(self, *args, **kwargs)\u001b[0m\n\u001b[1;32m   2753\u001b[0m             \u001b[0mvargs\u001b[0m\u001b[0;34m.\u001b[0m\u001b[0mextend\u001b[0m\u001b[0;34m(\u001b[0m\u001b[0;34m[\u001b[0m\u001b[0mkwargs\u001b[0m\u001b[0;34m[\u001b[0m\u001b[0m_n\u001b[0m\u001b[0;34m]\u001b[0m \u001b[0;32mfor\u001b[0m \u001b[0m_n\u001b[0m \u001b[0;32min\u001b[0m \u001b[0mnames\u001b[0m\u001b[0;34m]\u001b[0m\u001b[0;34m)\u001b[0m\u001b[0;34m\u001b[0m\u001b[0m\n\u001b[1;32m   2754\u001b[0m \u001b[0;34m\u001b[0m\u001b[0m\n\u001b[0;32m-> 2755\u001b[0;31m         \u001b[0;32mreturn\u001b[0m \u001b[0mself\u001b[0m\u001b[0;34m.\u001b[0m\u001b[0m_vectorize_call\u001b[0m\u001b[0;34m(\u001b[0m\u001b[0mfunc\u001b[0m\u001b[0;34m=\u001b[0m\u001b[0mfunc\u001b[0m\u001b[0;34m,\u001b[0m \u001b[0margs\u001b[0m\u001b[0;34m=\u001b[0m\u001b[0mvargs\u001b[0m\u001b[0;34m)\u001b[0m\u001b[0;34m\u001b[0m\u001b[0m\n\u001b[0m\u001b[1;32m   2756\u001b[0m \u001b[0;34m\u001b[0m\u001b[0m\n\u001b[1;32m   2757\u001b[0m     \u001b[0;32mdef\u001b[0m \u001b[0m_get_ufunc_and_otypes\u001b[0m\u001b[0;34m(\u001b[0m\u001b[0mself\u001b[0m\u001b[0;34m,\u001b[0m \u001b[0mfunc\u001b[0m\u001b[0;34m,\u001b[0m \u001b[0margs\u001b[0m\u001b[0;34m)\u001b[0m\u001b[0;34m:\u001b[0m\u001b[0;34m\u001b[0m\u001b[0m\n",
      "\u001b[0;32m~/anaconda3/lib/python3.6/site-packages/numpy/lib/function_base.py\u001b[0m in \u001b[0;36m_vectorize_call\u001b[0;34m(self, func, args)\u001b[0m\n\u001b[1;32m   2819\u001b[0m         \u001b[0;34m\"\"\"Vectorized call to `func` over positional `args`.\"\"\"\u001b[0m\u001b[0;34m\u001b[0m\u001b[0m\n\u001b[1;32m   2820\u001b[0m         \u001b[0;32mif\u001b[0m \u001b[0mself\u001b[0m\u001b[0;34m.\u001b[0m\u001b[0msignature\u001b[0m \u001b[0;32mis\u001b[0m \u001b[0;32mnot\u001b[0m \u001b[0;32mNone\u001b[0m\u001b[0;34m:\u001b[0m\u001b[0;34m\u001b[0m\u001b[0m\n\u001b[0;32m-> 2821\u001b[0;31m             \u001b[0mres\u001b[0m \u001b[0;34m=\u001b[0m \u001b[0mself\u001b[0m\u001b[0;34m.\u001b[0m\u001b[0m_vectorize_call_with_signature\u001b[0m\u001b[0;34m(\u001b[0m\u001b[0mfunc\u001b[0m\u001b[0;34m,\u001b[0m \u001b[0margs\u001b[0m\u001b[0;34m)\u001b[0m\u001b[0;34m\u001b[0m\u001b[0m\n\u001b[0m\u001b[1;32m   2822\u001b[0m         \u001b[0;32melif\u001b[0m \u001b[0;32mnot\u001b[0m \u001b[0margs\u001b[0m\u001b[0;34m:\u001b[0m\u001b[0;34m\u001b[0m\u001b[0m\n\u001b[1;32m   2823\u001b[0m             \u001b[0mres\u001b[0m \u001b[0;34m=\u001b[0m \u001b[0mfunc\u001b[0m\u001b[0;34m(\u001b[0m\u001b[0;34m)\u001b[0m\u001b[0;34m\u001b[0m\u001b[0m\n",
      "\u001b[0;32m~/anaconda3/lib/python3.6/site-packages/numpy/lib/function_base.py\u001b[0m in \u001b[0;36m_vectorize_call_with_signature\u001b[0;34m(self, func, args)\u001b[0m\n\u001b[1;32m   2860\u001b[0m \u001b[0;34m\u001b[0m\u001b[0m\n\u001b[1;32m   2861\u001b[0m         \u001b[0;32mfor\u001b[0m \u001b[0mindex\u001b[0m \u001b[0;32min\u001b[0m \u001b[0mnp\u001b[0m\u001b[0;34m.\u001b[0m\u001b[0mndindex\u001b[0m\u001b[0;34m(\u001b[0m\u001b[0;34m*\u001b[0m\u001b[0mbroadcast_shape\u001b[0m\u001b[0;34m)\u001b[0m\u001b[0;34m:\u001b[0m\u001b[0;34m\u001b[0m\u001b[0m\n\u001b[0;32m-> 2862\u001b[0;31m             \u001b[0mresults\u001b[0m \u001b[0;34m=\u001b[0m \u001b[0mfunc\u001b[0m\u001b[0;34m(\u001b[0m\u001b[0;34m*\u001b[0m\u001b[0;34m(\u001b[0m\u001b[0marg\u001b[0m\u001b[0;34m[\u001b[0m\u001b[0mindex\u001b[0m\u001b[0;34m]\u001b[0m \u001b[0;32mfor\u001b[0m \u001b[0marg\u001b[0m \u001b[0;32min\u001b[0m \u001b[0margs\u001b[0m\u001b[0;34m)\u001b[0m\u001b[0;34m)\u001b[0m\u001b[0;34m\u001b[0m\u001b[0m\n\u001b[0m\u001b[1;32m   2863\u001b[0m \u001b[0;34m\u001b[0m\u001b[0m\n\u001b[1;32m   2864\u001b[0m             \u001b[0mn_results\u001b[0m \u001b[0;34m=\u001b[0m \u001b[0mlen\u001b[0m\u001b[0;34m(\u001b[0m\u001b[0mresults\u001b[0m\u001b[0;34m)\u001b[0m \u001b[0;32mif\u001b[0m \u001b[0misinstance\u001b[0m\u001b[0;34m(\u001b[0m\u001b[0mresults\u001b[0m\u001b[0;34m,\u001b[0m \u001b[0mtuple\u001b[0m\u001b[0;34m)\u001b[0m \u001b[0;32melse\u001b[0m \u001b[0;36m1\u001b[0m\u001b[0;34m\u001b[0m\u001b[0m\n",
      "\u001b[0;32m<ipython-input-84-248f0fffe49a>\u001b[0m in \u001b[0;36m<lambda>\u001b[0;34m(x)\u001b[0m\n\u001b[0;32m----> 1\u001b[0;31m \u001b[0mnp\u001b[0m\u001b[0;34m.\u001b[0m\u001b[0mvectorize\u001b[0m\u001b[0;34m(\u001b[0m\u001b[0;34m(\u001b[0m\u001b[0;32mlambda\u001b[0m \u001b[0mx\u001b[0m\u001b[0;34m:\u001b[0m \u001b[0;34m(\u001b[0m\u001b[0mprint\u001b[0m\u001b[0;34m(\u001b[0m\u001b[0mx\u001b[0m\u001b[0;34m.\u001b[0m\u001b[0mshape\u001b[0m\u001b[0;34m)\u001b[0m\u001b[0;34m,\u001b[0m \u001b[0mnp\u001b[0m\u001b[0;34m.\u001b[0m\u001b[0mlinalg\u001b[0m\u001b[0;34m.\u001b[0m\u001b[0mlstsq\u001b[0m\u001b[0;34m(\u001b[0m\u001b[0mx\u001b[0m\u001b[0;34m.\u001b[0m\u001b[0mreshape\u001b[0m\u001b[0;34m(\u001b[0m\u001b[0;34m-\u001b[0m\u001b[0;36m1\u001b[0m\u001b[0;34m,\u001b[0m \u001b[0;36m1\u001b[0m\u001b[0;34m)\u001b[0m\u001b[0;34m,\u001b[0m \u001b[0my\u001b[0m\u001b[0;34m)\u001b[0m\u001b[0;34m)\u001b[0m\u001b[0;34m)\u001b[0m\u001b[0;34m,\u001b[0m \u001b[0msignature\u001b[0m\u001b[0;34m=\u001b[0m\u001b[0;34m'(a,b,c)->(c)'\u001b[0m\u001b[0;34m)\u001b[0m\u001b[0;34m(\u001b[0m\u001b[0ma\u001b[0m\u001b[0;34m)\u001b[0m\u001b[0;34m\u001b[0m\u001b[0m\n\u001b[0m",
      "\u001b[0;32m~/anaconda3/lib/python3.6/site-packages/numpy/linalg/linalg.py\u001b[0m in \u001b[0;36mlstsq\u001b[0;34m(a, b, rcond)\u001b[0m\n\u001b[1;32m   1982\u001b[0m     \u001b[0mldb\u001b[0m \u001b[0;34m=\u001b[0m \u001b[0mmax\u001b[0m\u001b[0;34m(\u001b[0m\u001b[0mn\u001b[0m\u001b[0;34m,\u001b[0m \u001b[0mm\u001b[0m\u001b[0;34m)\u001b[0m\u001b[0;34m\u001b[0m\u001b[0m\n\u001b[1;32m   1983\u001b[0m     \u001b[0;32mif\u001b[0m \u001b[0mm\u001b[0m \u001b[0;34m!=\u001b[0m \u001b[0mb\u001b[0m\u001b[0;34m.\u001b[0m\u001b[0mshape\u001b[0m\u001b[0;34m[\u001b[0m\u001b[0;36m0\u001b[0m\u001b[0;34m]\u001b[0m\u001b[0;34m:\u001b[0m\u001b[0;34m\u001b[0m\u001b[0m\n\u001b[0;32m-> 1984\u001b[0;31m         \u001b[0;32mraise\u001b[0m \u001b[0mLinAlgError\u001b[0m\u001b[0;34m(\u001b[0m\u001b[0;34m'Incompatible dimensions'\u001b[0m\u001b[0;34m)\u001b[0m\u001b[0;34m\u001b[0m\u001b[0m\n\u001b[0m\u001b[1;32m   1985\u001b[0m \u001b[0;34m\u001b[0m\u001b[0m\n\u001b[1;32m   1986\u001b[0m     \u001b[0mt\u001b[0m\u001b[0;34m,\u001b[0m \u001b[0mresult_t\u001b[0m \u001b[0;34m=\u001b[0m \u001b[0m_commonType\u001b[0m\u001b[0;34m(\u001b[0m\u001b[0ma\u001b[0m\u001b[0;34m,\u001b[0m \u001b[0mb\u001b[0m\u001b[0;34m)\u001b[0m\u001b[0;34m\u001b[0m\u001b[0m\n",
      "\u001b[0;31mLinAlgError\u001b[0m: Incompatible dimensions"
     ]
    }
   ],
   "source": []
  },
  {
   "cell_type": "code",
   "execution_count": 579,
   "metadata": {},
   "outputs": [
    {
     "data": {
      "text/plain": [
       "(537, 20787)"
      ]
     },
     "execution_count": 579,
     "metadata": {},
     "output_type": "execute_result"
    }
   ],
   "source": [
    "data.shape"
   ]
  },
  {
   "cell_type": "code",
   "execution_count": null,
   "metadata": {},
   "outputs": [],
   "source": []
  }
 ],
 "metadata": {
  "kernelspec": {
   "display_name": "Python 3",
   "language": "python",
   "name": "python3"
  },
  "language_info": {
   "codemirror_mode": {
    "name": "ipython",
    "version": 3
   },
   "file_extension": ".py",
   "mimetype": "text/x-python",
   "name": "python",
   "nbconvert_exporter": "python",
   "pygments_lexer": "ipython3",
   "version": "3.6.5"
  }
 },
 "nbformat": 4,
 "nbformat_minor": 2
}
